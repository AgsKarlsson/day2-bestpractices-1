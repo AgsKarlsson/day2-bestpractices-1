{
 "cells": [
  {
   "cell_type": "code",
   "execution_count": 1,
   "metadata": {},
   "outputs": [],
   "source": [
    "%load_ext memory_profiler"
   ]
  },
  {
   "cell_type": "code",
   "execution_count": 2,
   "metadata": {},
   "outputs": [
    {
     "name": "stdout",
     "output_type": "stream",
     "text": [
      "30397485.0\n"
     ]
    }
   ],
   "source": [
    "#!/usr/bin/python\n",
    "\n",
    "from math import ceil,sqrt\n",
    "\n",
    "def gen_primes(n):\n",
    "    l = range(2,n)\n",
    "    primes = []\n",
    "    for j in range(0,len(l)):\n",
    "        p = True\n",
    "        for d in primes:\n",
    "            if(d > sqrt(l[j])):\n",
    "                break\n",
    "            if(l[j] % d == 0):\n",
    "                p = False\n",
    "                break;\n",
    "        if(p):\n",
    "            primes.append(l[j])\n",
    "\n",
    "    return primes\n",
    "\n",
    "def factorize(n,primes):\n",
    "    factors = []\n",
    "    init_n = n\n",
    "    for p in primes:\n",
    "        while(n%p == 0):\n",
    "            n = n/p\n",
    "            factors.append(p)\n",
    "        if(p > sqrt(n)):\n",
    "            break\n",
    "    if(n > 1):\n",
    "        factors.append(n)\n",
    "    return factors\n",
    "\n",
    "    \n",
    "def phi(n,primes):\n",
    "    factors = factorize(n,primes)\n",
    "    p = 1\n",
    "\n",
    "    for i in range(2,n):\n",
    "        flag = True\n",
    "        for f in factors:\n",
    "            if i%f == 0:\n",
    "                flag = False\n",
    "                break\n",
    "        if flag:\n",
    "            p+=1\n",
    "    return p\n",
    "\n",
    "def fast_phi(n,primes):\n",
    "    factors = factorize(n,primes)\n",
    "    phi = factors[0]-1\n",
    "    for i in range(1,len(factors)):\n",
    "        if(factors[i] == factors[i-1]):\n",
    "            phi *= (factors[i]-1)*(factors[i])/(factors[i]-1)\n",
    "        else:\n",
    "            phi *= (factors[i]-1)\n",
    "    return phi\n",
    "def phi_range(m):\n",
    "    fraq = 0\n",
    "    for i in range(2,m+1):\n",
    "        fraq += fast_phi(i,primes)\n",
    "    return fraq\n",
    "\n",
    "\n",
    "primes = gen_primes(1000)\n",
    "m = 10000\n",
    "#m = 8\n",
    "fraq=phi_range(m)\n",
    "\n",
    "print(fraq)"
   ]
  },
  {
   "cell_type": "code",
   "execution_count": 3,
   "metadata": {},
   "outputs": [
    {
     "name": "stdout",
     "output_type": "stream",
     "text": [
      "peak memory: 52.65 MiB, increment: 0.16 MiB\n"
     ]
    }
   ],
   "source": [
    "%memit primes=gen_primes(1000)"
   ]
  },
  {
   "cell_type": "code",
   "execution_count": 4,
   "metadata": {},
   "outputs": [
    {
     "name": "stdout",
     "output_type": "stream",
     "text": [
      "peak memory: 52.68 MiB, increment: 0.01 MiB\n"
     ]
    }
   ],
   "source": [
    "%memit fraq=phi_range(10000)"
   ]
  },
  {
   "cell_type": "code",
   "execution_count": null,
   "metadata": {},
   "outputs": [],
   "source": []
  }
 ],
 "metadata": {
  "kernelspec": {
   "display_name": "Python 3",
   "language": "python",
   "name": "python3"
  },
  "language_info": {
   "codemirror_mode": {
    "name": "ipython",
    "version": 3
   },
   "file_extension": ".py",
   "mimetype": "text/x-python",
   "name": "python",
   "nbconvert_exporter": "python",
   "pygments_lexer": "ipython3",
   "version": "3.7.6"
  }
 },
 "nbformat": 4,
 "nbformat_minor": 4
}
